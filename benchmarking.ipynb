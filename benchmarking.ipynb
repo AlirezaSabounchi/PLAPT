{
 "cells": [
  {
   "cell_type": "markdown",
   "metadata": {},
   "source": [
    "## Initialization"
   ]
  },
  {
   "cell_type": "code",
   "execution_count": 11,
   "metadata": {},
   "outputs": [
    {
     "name": "stderr",
     "output_type": "stream",
     "text": [
      "/home/tyler/Programs/WELP-PLAPT/env/lib/python3.12/site-packages/transformers/tokenization_utils_base.py:1601: FutureWarning: `clean_up_tokenization_spaces` was not set. It will be set to `True` by default. This behavior will be depracted in transformers v4.45, and will be then set to `False` by default. For more details check this issue: https://github.com/huggingface/transformers/issues/31884\n",
      "  warnings.warn(\n",
      "\u001b[0;93m2024-09-04 21:45:41.691906617 [W:onnxruntime:, graph.cc:1312 Graph] Initializer ProtOnly/Slice_Starts appears in graph inputs and will not be treated as constant value/weight. This may prevent some of the graph optimizations, like const folding. Move it out of graph inputs if there is no need to override it, by either re-generating the model with latest exporter/converter or with the tool onnxruntime/tools/python/remove_initializer_from_input.py.\u001b[m\n",
      "\u001b[0;93m2024-09-04 21:45:41.691917603 [W:onnxruntime:, graph.cc:1312 Graph] Initializer ProtOnly/Slice_Ends appears in graph inputs and will not be treated as constant value/weight. This may prevent some of the graph optimizations, like const folding. Move it out of graph inputs if there is no need to override it, by either re-generating the model with latest exporter/converter or with the tool onnxruntime/tools/python/remove_initializer_from_input.py.\u001b[m\n",
      "\u001b[0;93m2024-09-04 21:45:41.691920223 [W:onnxruntime:, graph.cc:1312 Graph] Initializer ProtOnly/Slice_Axes appears in graph inputs and will not be treated as constant value/weight. This may prevent some of the graph optimizations, like const folding. Move it out of graph inputs if there is no need to override it, by either re-generating the model with latest exporter/converter or with the tool onnxruntime/tools/python/remove_initializer_from_input.py.\u001b[m\n",
      "\u001b[0;93m2024-09-04 21:45:41.691921882 [W:onnxruntime:, graph.cc:1312 Graph] Initializer MolOnly/Slice_Starts appears in graph inputs and will not be treated as constant value/weight. This may prevent some of the graph optimizations, like const folding. Move it out of graph inputs if there is no need to override it, by either re-generating the model with latest exporter/converter or with the tool onnxruntime/tools/python/remove_initializer_from_input.py.\u001b[m\n",
      "\u001b[0;93m2024-09-04 21:45:41.691923283 [W:onnxruntime:, graph.cc:1312 Graph] Initializer MolOnly/Slice_Ends appears in graph inputs and will not be treated as constant value/weight. This may prevent some of the graph optimizations, like const folding. Move it out of graph inputs if there is no need to override it, by either re-generating the model with latest exporter/converter or with the tool onnxruntime/tools/python/remove_initializer_from_input.py.\u001b[m\n",
      "\u001b[0;93m2024-09-04 21:45:41.691924858 [W:onnxruntime:, graph.cc:1312 Graph] Initializer MolOnly/Slice_Axes appears in graph inputs and will not be treated as constant value/weight. This may prevent some of the graph optimizations, like const folding. Move it out of graph inputs if there is no need to override it, by either re-generating the model with latest exporter/converter or with the tool onnxruntime/tools/python/remove_initializer_from_input.py.\u001b[m\n",
      "\u001b[0;93m2024-09-04 21:45:41.691926429 [W:onnxruntime:, graph.cc:1312 Graph] Initializer ProtLinear_Weights appears in graph inputs and will not be treated as constant value/weight. This may prevent some of the graph optimizations, like const folding. Move it out of graph inputs if there is no need to override it, by either re-generating the model with latest exporter/converter or with the tool onnxruntime/tools/python/remove_initializer_from_input.py.\u001b[m\n",
      "\u001b[0;93m2024-09-04 21:45:41.691927904 [W:onnxruntime:, graph.cc:1312 Graph] Initializer ProtLinear_Biases appears in graph inputs and will not be treated as constant value/weight. This may prevent some of the graph optimizations, like const folding. Move it out of graph inputs if there is no need to override it, by either re-generating the model with latest exporter/converter or with the tool onnxruntime/tools/python/remove_initializer_from_input.py.\u001b[m\n",
      "\u001b[0;93m2024-09-04 21:45:41.691929379 [W:onnxruntime:, graph.cc:1312 Graph] Initializer MolLinear_Weights appears in graph inputs and will not be treated as constant value/weight. This may prevent some of the graph optimizations, like const folding. Move it out of graph inputs if there is no need to override it, by either re-generating the model with latest exporter/converter or with the tool onnxruntime/tools/python/remove_initializer_from_input.py.\u001b[m\n",
      "\u001b[0;93m2024-09-04 21:45:41.691930786 [W:onnxruntime:, graph.cc:1312 Graph] Initializer MolLinear_Biases appears in graph inputs and will not be treated as constant value/weight. This may prevent some of the graph optimizations, like const folding. Move it out of graph inputs if there is no need to override it, by either re-generating the model with latest exporter/converter or with the tool onnxruntime/tools/python/remove_initializer_from_input.py.\u001b[m\n",
      "\u001b[0;93m2024-09-04 21:45:41.691933240 [W:onnxruntime:, graph.cc:1312 Graph] Initializer Normalize_Scaling appears in graph inputs and will not be treated as constant value/weight. This may prevent some of the graph optimizations, like const folding. Move it out of graph inputs if there is no need to override it, by either re-generating the model with latest exporter/converter or with the tool onnxruntime/tools/python/remove_initializer_from_input.py.\u001b[m\n",
      "\u001b[0;93m2024-09-04 21:45:41.691934660 [W:onnxruntime:, graph.cc:1312 Graph] Initializer Normalize_Biases appears in graph inputs and will not be treated as constant value/weight. This may prevent some of the graph optimizations, like const folding. Move it out of graph inputs if there is no need to override it, by either re-generating the model with latest exporter/converter or with the tool onnxruntime/tools/python/remove_initializer_from_input.py.\u001b[m\n",
      "\u001b[0;93m2024-09-04 21:45:41.691936185 [W:onnxruntime:, graph.cc:1312 Graph] Initializer Normalize_MovingMean appears in graph inputs and will not be treated as constant value/weight. This may prevent some of the graph optimizations, like const folding. Move it out of graph inputs if there is no need to override it, by either re-generating the model with latest exporter/converter or with the tool onnxruntime/tools/python/remove_initializer_from_input.py.\u001b[m\n",
      "\u001b[0;93m2024-09-04 21:45:41.691937723 [W:onnxruntime:, graph.cc:1312 Graph] Initializer Normalize_MovingVariance appears in graph inputs and will not be treated as constant value/weight. This may prevent some of the graph optimizations, like const folding. Move it out of graph inputs if there is no need to override it, by either re-generating the model with latest exporter/converter or with the tool onnxruntime/tools/python/remove_initializer_from_input.py.\u001b[m\n",
      "\u001b[0;93m2024-09-04 21:45:41.691939201 [W:onnxruntime:, graph.cc:1312 Graph] Initializer Linear1_Weights appears in graph inputs and will not be treated as constant value/weight. This may prevent some of the graph optimizations, like const folding. Move it out of graph inputs if there is no need to override it, by either re-generating the model with latest exporter/converter or with the tool onnxruntime/tools/python/remove_initializer_from_input.py.\u001b[m\n",
      "\u001b[0;93m2024-09-04 21:45:41.691940637 [W:onnxruntime:, graph.cc:1312 Graph] Initializer Linear1_Biases appears in graph inputs and will not be treated as constant value/weight. This may prevent some of the graph optimizations, like const folding. Move it out of graph inputs if there is no need to override it, by either re-generating the model with latest exporter/converter or with the tool onnxruntime/tools/python/remove_initializer_from_input.py.\u001b[m\n",
      "\u001b[0;93m2024-09-04 21:45:41.691942058 [W:onnxruntime:, graph.cc:1312 Graph] Initializer Dropout1/Dropout_Ratio appears in graph inputs and will not be treated as constant value/weight. This may prevent some of the graph optimizations, like const folding. Move it out of graph inputs if there is no need to override it, by either re-generating the model with latest exporter/converter or with the tool onnxruntime/tools/python/remove_initializer_from_input.py.\u001b[m\n",
      "\u001b[0;93m2024-09-04 21:45:41.691943589 [W:onnxruntime:, graph.cc:1312 Graph] Initializer Linear2_Weights appears in graph inputs and will not be treated as constant value/weight. This may prevent some of the graph optimizations, like const folding. Move it out of graph inputs if there is no need to override it, by either re-generating the model with latest exporter/converter or with the tool onnxruntime/tools/python/remove_initializer_from_input.py.\u001b[m\n",
      "\u001b[0;93m2024-09-04 21:45:41.691945493 [W:onnxruntime:, graph.cc:1312 Graph] Initializer Linear2_Biases appears in graph inputs and will not be treated as constant value/weight. This may prevent some of the graph optimizations, like const folding. Move it out of graph inputs if there is no need to override it, by either re-generating the model with latest exporter/converter or with the tool onnxruntime/tools/python/remove_initializer_from_input.py.\u001b[m\n",
      "\u001b[0;93m2024-09-04 21:45:41.691946945 [W:onnxruntime:, graph.cc:1312 Graph] Initializer FinalLinear_Weights appears in graph inputs and will not be treated as constant value/weight. This may prevent some of the graph optimizations, like const folding. Move it out of graph inputs if there is no need to override it, by either re-generating the model with latest exporter/converter or with the tool onnxruntime/tools/python/remove_initializer_from_input.py.\u001b[m\n",
      "\u001b[0;93m2024-09-04 21:45:41.691948341 [W:onnxruntime:, graph.cc:1312 Graph] Initializer FinalLinear_Biases appears in graph inputs and will not be treated as constant value/weight. This may prevent some of the graph optimizations, like const folding. Move it out of graph inputs if there is no need to override it, by either re-generating the model with latest exporter/converter or with the tool onnxruntime/tools/python/remove_initializer_from_input.py.\u001b[m\n"
     ]
    }
   ],
   "source": [
    "from plapt import Plapt\n",
    "import pandas as pd\n",
    "from scipy.stats import spearmanr, pearsonr\n",
    "import numpy as np\n",
    "\n",
    "plapt = Plapt()"
   ]
  },
  {
   "cell_type": "markdown",
   "metadata": {},
   "source": [
    "# Test_2016_290"
   ]
  },
  {
   "cell_type": "code",
   "execution_count": 12,
   "metadata": {},
   "outputs": [],
   "source": [
    "benchmark_data = pd.read_csv(\"data/Test2016_290.csv\")\n",
    "    \n",
    "# Extract sequences and smiles from benchmark dataset\n",
    "prot_seqs = benchmark_data['seq'].tolist()\n",
    "mol_smiles = benchmark_data['smiles_can'].tolist()\n",
    "experimental_pKd = benchmark_data['neg_log10_affinity_M'].tolist()"
   ]
  },
  {
   "cell_type": "code",
   "execution_count": 13,
   "metadata": {},
   "outputs": [],
   "source": [
    "predictions = plapt.predict_affinity(prot_seqs,mol_smiles)"
   ]
  },
  {
   "cell_type": "code",
   "execution_count": 14,
   "metadata": {},
   "outputs": [
    {
     "name": "stdout",
     "output_type": "stream",
     "text": [
      "MSE: 1.43082343160439\n",
      "MAE: 0.9060019385568028\n",
      "RMSE: 1.1961703188109918\n",
      "Spearman's Correlation: 0.8314992191087003\n"
     ]
    }
   ],
   "source": [
    "predicted_pKd = [d['neg_log10_affinity_M'] for d in predictions]\n",
    "\n",
    "# Ensure the lengths of the lists are the same\n",
    "if len(predicted_pKd) != len(experimental_pKd):\n",
    "    raise ValueError(\"The lengths of the predicted and experimental lists do not match.\")\n",
    "\n",
    "# Convert lists to numpy arrays for easier calculations\n",
    "predicted_pKd = np.array(predicted_pKd)\n",
    "experimental_pKd = np.array(experimental_pKd)\n",
    "\n",
    "# Calculate MSE\n",
    "mse = np.mean((predicted_pKd - experimental_pKd) ** 2)\n",
    "\n",
    "# Calculate MAE\n",
    "mae = np.mean(np.abs(predicted_pKd - experimental_pKd))\n",
    "\n",
    "# Calculate RMSE\n",
    "rmse = np.sqrt(mse)\n",
    "\n",
    "# Calculate Spearman's correlation\n",
    "spearman_corr, _ = spearmanr(predicted_pKd, experimental_pKd)\n",
    "\n",
    "print(f\"MSE: {mse}\")\n",
    "print(f\"MAE: {mae}\")\n",
    "print(f\"RMSE: {rmse}\")\n",
    "print(f\"Spearman's Correlation: {spearman_corr}\")"
   ]
  },
  {
   "cell_type": "markdown",
   "metadata": {},
   "source": [
    "# CSAR HiQ 36"
   ]
  },
  {
   "cell_type": "code",
   "execution_count": 15,
   "metadata": {},
   "outputs": [],
   "source": [
    "benchmark_data = pd.read_csv(\"data/CSAR-HiQ_36.csv\")\n",
    "    \n",
    "# Extract sequences and smiles from benchmark dataset\n",
    "prot_seqs = benchmark_data['seq'].tolist()\n",
    "mol_smiles = benchmark_data['smiles_can'].tolist()\n",
    "experimental_pKd = benchmark_data['neg_log10_affinity_M'].tolist()"
   ]
  },
  {
   "cell_type": "code",
   "execution_count": 16,
   "metadata": {},
   "outputs": [],
   "source": [
    "predictions = plapt.predict_affinity(prot_seqs,mol_smiles)"
   ]
  },
  {
   "cell_type": "code",
   "execution_count": 17,
   "metadata": {},
   "outputs": [
    {
     "name": "stdout",
     "output_type": "stream",
     "text": [
      "MSE: 1.8194395087681423\n",
      "MAE: 1.1572850341267054\n",
      "RMSE: 1.3488660084560447\n",
      "Spearman's Correlation: 0.7423423423423423\n",
      "Pearsons's Correlation: 0.7314860081349226\n"
     ]
    }
   ],
   "source": [
    "predicted_pKd = [d['neg_log10_affinity_M'] for d in predictions]\n",
    "\n",
    "# Ensure the lengths of the lists are the same\n",
    "if len(predicted_pKd) != len(experimental_pKd):\n",
    "    raise ValueError(\"The lengths of the predicted and experimental lists do not match.\")\n",
    "\n",
    "# Convert lists to numpy arrays for easier calculations\n",
    "predicted_pKd = np.array(predicted_pKd)\n",
    "experimental_pKd = np.array(experimental_pKd)\n",
    "\n",
    "# Calculate MSE\n",
    "mse = np.mean((predicted_pKd - experimental_pKd) ** 2)\n",
    "\n",
    "# Calculate MAE\n",
    "mae = np.mean(np.abs(predicted_pKd - experimental_pKd))\n",
    "\n",
    "# Calculate RMSE\n",
    "rmse = np.sqrt(mse)\n",
    "\n",
    "# Calculate Spearman's correlation\n",
    "spearman_corr, _ = spearmanr(predicted_pKd, experimental_pKd)\n",
    "pearson_corr, _ = pearsonr(predicted_pKd, experimental_pKd)\n",
    "\n",
    "print(f\"MSE: {mse}\")\n",
    "print(f\"MAE: {mae}\")\n",
    "print(f\"RMSE: {rmse}\")\n",
    "print(f\"Spearman's Correlation: {spearman_corr}\")\n",
    "print(f\"Pearsons's Correlation: {pearson_corr}\")"
   ]
  },
  {
   "cell_type": "markdown",
   "metadata": {},
   "source": [
    "## Custom Benchmark"
   ]
  },
  {
   "cell_type": "code",
   "execution_count": 19,
   "metadata": {},
   "outputs": [],
   "source": [
    "from datasets import load_dataset, Dataset\n",
    "import random\n",
    "random.seed(2101)\n",
    "benchmark_data = load_dataset(\"jglaser/binding_affinity\")['train'].select(random.sample(range(10001,20001), 1000))"
   ]
  },
  {
   "cell_type": "code",
   "execution_count": 20,
   "metadata": {},
   "outputs": [
    {
     "name": "stderr",
     "output_type": "stream",
     "text": [
      "Creating CSV from Arrow format: 100%|██████████| 1/1 [00:00<00:00, 85.47ba/s]\n"
     ]
    },
    {
     "data": {
      "text/plain": [
       "440114"
      ]
     },
     "execution_count": 20,
     "metadata": {},
     "output_type": "execute_result"
    }
   ],
   "source": [
    "benchmark_data.to_csv(\"data/benchmark1k2101.csv\")"
   ]
  },
  {
   "cell_type": "code",
   "execution_count": 21,
   "metadata": {},
   "outputs": [],
   "source": [
    "prot_seqs = benchmark_data['seq']\n",
    "mol_smiles = benchmark_data['smiles_can']\n",
    "experimental_pKd = benchmark_data['neg_log10_affinity_M']"
   ]
  },
  {
   "cell_type": "code",
   "execution_count": 22,
   "metadata": {},
   "outputs": [],
   "source": [
    "predictions = plapt.predict_affinity(prot_seqs,mol_smiles)"
   ]
  },
  {
   "cell_type": "code",
   "execution_count": 23,
   "metadata": {},
   "outputs": [
    {
     "name": "stdout",
     "output_type": "stream",
     "text": [
      "MSE: 0.8505419047962388\n",
      "MAE: 0.6883422367572785\n",
      "RMSE: 0.9222482880419127\n",
      "Spearman's Correlation: 0.8821429045140452\n"
     ]
    }
   ],
   "source": [
    "predicted_pKd = [d['neg_log10_affinity_M'] for d in predictions]\n",
    "\n",
    "# Ensure the lengths of the lists are the same\n",
    "if len(predicted_pKd) != len(experimental_pKd):\n",
    "    raise ValueError(\"The lengths of the predicted and experimental lists do not match.\")\n",
    "\n",
    "# Convert lists to numpy arrays for easier calculations\n",
    "predicted_pKd = np.array(predicted_pKd)\n",
    "experimental_pKd = np.array(experimental_pKd)\n",
    "\n",
    "# Calculate MSE\n",
    "mse = np.mean((predicted_pKd - experimental_pKd) ** 2)\n",
    "\n",
    "# Calculate MAE\n",
    "mae = np.mean(np.abs(predicted_pKd - experimental_pKd))\n",
    "\n",
    "# Calculate RMSE\n",
    "rmse = np.sqrt(mse)\n",
    "\n",
    "# Calculate Spearman's correlation\n",
    "spearman_corr, _ = spearmanr(predicted_pKd, experimental_pKd)\n",
    "\n",
    "print(f\"MSE: {mse}\")\n",
    "print(f\"MAE: {mae}\")\n",
    "print(f\"RMSE: {rmse}\")\n",
    "print(f\"Spearman's Correlation: {spearman_corr}\")"
   ]
  }
 ],
 "metadata": {
  "kernelspec": {
   "display_name": "Python 3",
   "language": "python",
   "name": "python3"
  },
  "language_info": {
   "codemirror_mode": {
    "name": "ipython",
    "version": 3
   },
   "file_extension": ".py",
   "mimetype": "text/x-python",
   "name": "python",
   "nbconvert_exporter": "python",
   "pygments_lexer": "ipython3",
   "version": "3.12.4"
  }
 },
 "nbformat": 4,
 "nbformat_minor": 2
}
