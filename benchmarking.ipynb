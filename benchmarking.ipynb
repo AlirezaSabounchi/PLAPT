{
 "cells": [
  {
   "cell_type": "markdown",
   "metadata": {},
   "source": [
    "## Initialization"
   ]
  },
  {
   "cell_type": "code",
   "execution_count": null,
   "metadata": {},
   "outputs": [],
   "source": [
    "from plapt import Plapt\n",
    "import pandas as pd\n",
    "from scipy.stats import spearmanr, pearsonr\n",
    "import numpy as np\n",
    "\n",
    "plapt = Plapt()"
   ]
  },
  {
   "cell_type": "markdown",
   "metadata": {},
   "source": [
    "# Test_2016_290"
   ]
  },
  {
   "cell_type": "code",
   "execution_count": 2,
   "metadata": {},
   "outputs": [],
   "source": [
    "benchmark_data = pd.read_csv(\"data/Test2016_290.csv\")\n",
    "    \n",
    "# Extract sequences and smiles from benchmark dataset\n",
    "prot_seqs = benchmark_data['seq'].tolist()\n",
    "mol_smiles = benchmark_data['smiles_can'].tolist()\n",
    "experimental_pKd = benchmark_data['neg_log10_affinity_M'].tolist()"
   ]
  },
  {
   "cell_type": "code",
   "execution_count": 3,
   "metadata": {},
   "outputs": [],
   "source": [
    "predictions = plapt.predict_affinity(prot_seqs,mol_smiles)"
   ]
  },
  {
   "cell_type": "code",
   "execution_count": null,
   "metadata": {},
   "outputs": [],
   "source": [
    "predicted_pKd = [d['neg_log10_affinity_M'] for d in predictions]\n",
    "\n",
    "# Ensure the lengths of the lists are the same\n",
    "if len(predicted_pKd) != len(experimental_pKd):\n",
    "    raise ValueError(\"The lengths of the predicted and experimental lists do not match.\")\n",
    "\n",
    "# Convert lists to numpy arrays for easier calculations\n",
    "predicted_pKd = np.array(predicted_pKd)\n",
    "experimental_pKd = np.array(experimental_pKd)\n",
    "\n",
    "# Calculate MSE\n",
    "mse = np.mean((predicted_pKd - experimental_pKd) ** 2)\n",
    "\n",
    "# Calculate MAE\n",
    "mae = np.mean(np.abs(predicted_pKd - experimental_pKd))\n",
    "\n",
    "# Calculate RMSE\n",
    "rmse = np.sqrt(mse)\n",
    "\n",
    "# Calculate Spearman's correlation\n",
    "spearman_corr, _ = spearmanr(predicted_pKd, experimental_pKd)\n",
    "pearson_corr, _ = pearsonr(predicted_pKd, experimental_pKd)\n",
    "\n",
    "from sklearn.metrics import r2_score\n",
    "r2 = r2_score(experimental_pKd, predicted_pKd)\n",
    "print(f\"MSE: {mse}\")\n",
    "print(f\"MAE: {mae}\")\n",
    "print(f\"RMSE: {rmse}\")\n",
    "print(f\"Spearman's Correlation: {spearman_corr}\")\n",
    "print(f\"Pearsons's Correlation: {pearson_corr}\")"
   ]
  },
  {
   "cell_type": "markdown",
   "metadata": {},
   "source": [
    "# CSAR HiQ 36"
   ]
  },
  {
   "cell_type": "code",
   "execution_count": 5,
   "metadata": {},
   "outputs": [],
   "source": [
    "benchmark_data = pd.read_csv(\"data/CSAR-HiQ_36.csv\")\n",
    "    \n",
    "# Extract sequences and smiles from benchmark dataset\n",
    "prot_seqs = benchmark_data['seq'].tolist()\n",
    "mol_smiles = benchmark_data['smiles_can'].tolist()\n",
    "experimental_pKd = benchmark_data['neg_log10_affinity_M'].tolist()"
   ]
  },
  {
   "cell_type": "code",
   "execution_count": 6,
   "metadata": {},
   "outputs": [],
   "source": [
    "predictions = plapt.predict_affinity(prot_seqs,mol_smiles)"
   ]
  },
  {
   "cell_type": "code",
   "execution_count": null,
   "metadata": {},
   "outputs": [],
   "source": [
    "predicted_pKd = [d['neg_log10_affinity_M'] for d in predictions]\n",
    "\n",
    "# Ensure the lengths of the lists are the same\n",
    "if len(predicted_pKd) != len(experimental_pKd):\n",
    "    raise ValueError(\"The lengths of the predicted and experimental lists do not match.\")\n",
    "\n",
    "# Convert lists to numpy arrays for easier calculations\n",
    "predicted_pKd = np.array(predicted_pKd)\n",
    "experimental_pKd = np.array(experimental_pKd)\n",
    "\n",
    "# Calculate MSE\n",
    "mse = np.mean((predicted_pKd - experimental_pKd) ** 2)\n",
    "\n",
    "# Calculate MAE\n",
    "mae = np.mean(np.abs(predicted_pKd - experimental_pKd))\n",
    "\n",
    "# Calculate RMSE\n",
    "rmse = np.sqrt(mse)\n",
    "\n",
    "# Calculate Spearman's correlation\n",
    "spearman_corr, _ = spearmanr(predicted_pKd, experimental_pKd)\n",
    "pearson_corr, _ = pearsonr(predicted_pKd, experimental_pKd)\n",
    "\n",
    "from sklearn.metrics import r2_score\n",
    "r2 = r2_score(experimental_pKd, predicted_pKd)\n",
    "print(f\"MSE: {mse}\")\n",
    "print(f\"MAE: {mae}\")\n",
    "print(f\"RMSE: {rmse}\")\n",
    "print(f\"Spearman's Correlation: {spearman_corr}\")\n",
    "print(f\"Pearsons's Correlation: {pearson_corr}\")\n",
    "print(f\"R^2: {r2}\")"
   ]
  },
  {
   "cell_type": "markdown",
   "metadata": {},
   "source": [
    "# Benchmark2k2101"
   ]
  },
  {
   "cell_type": "code",
   "execution_count": 11,
   "metadata": {},
   "outputs": [],
   "source": [
    "benchmark_data = pd.read_csv(\"data/benchmark1k2101.csv\")\n",
    "prot_seqs = benchmark_data['seq']\n",
    "mol_smiles = benchmark_data['smiles_can']\n",
    "experimental_pKd = benchmark_data['neg_log10_affinity_M']"
   ]
  },
  {
   "cell_type": "code",
   "execution_count": 12,
   "metadata": {},
   "outputs": [],
   "source": [
    "predictions = plapt.predict_affinity(prot_seqs,mol_smiles)"
   ]
  },
  {
   "cell_type": "code",
   "execution_count": 16,
   "metadata": {},
   "outputs": [
    {
     "name": "stdout",
     "output_type": "stream",
     "text": [
      "MSE: 0.8505429506092742\n",
      "MAE: 0.6883426504135132\n",
      "RMSE: 0.9222488550327803\n",
      "Spearman's Correlation: 0.8821411225023195\n",
      "Pearsons's Correlation: 0.8816018986216324\n"
     ]
    }
   ],
   "source": [
    "predicted_pKd = [d['neg_log10_affinity_M'] for d in predictions]\n",
    "\n",
    "# Ensure the lengths of the lists are the same\n",
    "if len(predicted_pKd) != len(experimental_pKd):\n",
    "    raise ValueError(\"The lengths of the predicted and experimental lists do not match.\")\n",
    "\n",
    "# Convert lists to numpy arrays for easier calculations\n",
    "predicted_pKd = np.array(predicted_pKd)\n",
    "experimental_pKd = np.array(experimental_pKd)\n",
    "\n",
    "# Calculate MSE\n",
    "mse = np.mean((predicted_pKd - experimental_pKd) ** 2)\n",
    "\n",
    "# Calculate MAE\n",
    "mae = np.mean(np.abs(predicted_pKd - experimental_pKd))\n",
    "\n",
    "# Calculate RMSE\n",
    "rmse = np.sqrt(mse)\n",
    "\n",
    "# Calculate Spearman's correlation\n",
    "spearman_corr, _ = spearmanr(predicted_pKd, experimental_pKd)\n",
    "pearson_corr, _ = pearsonr(predicted_pKd, experimental_pKd)\n",
    "\n",
    "print(f\"MSE: {mse}\")\n",
    "print(f\"MAE: {mae}\")\n",
    "print(f\"RMSE: {rmse}\")\n",
    "print(f\"Spearman's Correlation: {spearman_corr}\")\n",
    "print(f\"Pearsons's Correlation: {pearson_corr}\")\n"
   ]
  },
  {
   "cell_type": "markdown",
   "metadata": {},
   "source": [
    "## Recreate Custom Benchmark"
   ]
  },
  {
   "cell_type": "code",
   "execution_count": null,
   "metadata": {},
   "outputs": [],
   "source": [
    "from datasets import load_dataset, Dataset\n",
    "import random\n",
    "random.seed(2101)\n",
    "benchmark_data = load_dataset(\"jglaser/binding_affinity\")['train'].select(random.sample(range(10001,20001), 1000))"
   ]
  },
  {
   "cell_type": "code",
   "execution_count": null,
   "metadata": {},
   "outputs": [],
   "source": [
    "benchmark_data.to_csv(\"data/benchmark1k2101.csv\")"
   ]
  }
 ],
 "metadata": {
  "kernelspec": {
   "display_name": "env",
   "language": "python",
   "name": "python3"
  },
  "language_info": {
   "codemirror_mode": {
    "name": "ipython",
    "version": 3
   },
   "file_extension": ".py",
   "mimetype": "text/x-python",
   "name": "python",
   "nbconvert_exporter": "python",
   "pygments_lexer": "ipython3",
   "version": "3.13.1"
  }
 },
 "nbformat": 4,
 "nbformat_minor": 2
}
