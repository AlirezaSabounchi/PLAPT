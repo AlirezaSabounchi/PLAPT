{
 "cells": [
  {
   "cell_type": "markdown",
   "metadata": {},
   "source": [
    "## Initialization"
   ]
  },
  {
   "cell_type": "code",
   "execution_count": null,
   "metadata": {},
   "outputs": [],
   "source": [
    "from plapt import Plapt\n",
    "import pandas as pd\n",
    "from scipy.stats import spearmanr, pearsonr\n",
    "import numpy as np\n",
    "\n",
    "plapt = Plapt()"
   ]
  },
  {
   "cell_type": "markdown",
   "metadata": {},
   "source": [
    "# Test_2016_290"
   ]
  },
  {
   "cell_type": "code",
   "execution_count": 43,
   "metadata": {},
   "outputs": [],
   "source": [
    "test_2016_290_data  = pd.read_csv(\"data/Test2016_290.csv\")\n",
    "    \n",
    "# Extract sequences and smiles from benchmark dataset\n",
    "test_2016_290_prot_seqs = test_2016_290_data['seq'].tolist()\n",
    "test_2016_290_mol_smiles = test_2016_290_data['smiles_can'].tolist()\n",
    "test_2016_290_experimental_pKd = test_2016_290_data['neg_log10_affinity_M'].tolist()"
   ]
  },
  {
   "cell_type": "code",
   "execution_count": 44,
   "metadata": {},
   "outputs": [],
   "source": [
    "test_2016_290_predictions = plapt.predict_affinity(test_2016_290_prot_seqs,test_2016_290_mol_smiles)"
   ]
  },
  {
   "cell_type": "code",
   "execution_count": 45,
   "metadata": {},
   "outputs": [
    {
     "name": "stdout",
     "output_type": "stream",
     "text": [
      "test_2016_290\n",
      "MSE: 1.4308253988124906\n",
      "MAE: 0.9060012964709052\n",
      "RMSE: 1.196171141105022\n",
      "Spearman's Correlation: 0.8314992191087003\n",
      "Pearsons's Correlation (R): 0.8448984316773254\n"
     ]
    }
   ],
   "source": [
    "test_2016_290_predicted_pKd = [d['neg_log10_affinity_M'] for d in test_2016_290_predictions]\n",
    "\n",
    "# Ensure the lengths of the lists are the same\n",
    "if len(test_2016_290_predicted_pKd) != len(test_2016_290_experimental_pKd):\n",
    "    raise ValueError(\"The lengths of the predicted and experimental lists do not match.\")\n",
    "\n",
    "# Convert lists to numpy arrays for easier calculations\n",
    "test_2016_290_predicted_pKd = np.array(test_2016_290_predicted_pKd)\n",
    "test_2016_290_experimental_pKd = np.array(test_2016_290_experimental_pKd)\n",
    "\n",
    "mse = np.mean((test_2016_290_predicted_pKd - test_2016_290_experimental_pKd) ** 2)\n",
    "mae = np.mean(np.abs(test_2016_290_predicted_pKd - test_2016_290_experimental_pKd))\n",
    "rmse = np.sqrt(mse)\n",
    "\n",
    "# Calculate Spearman's correlation\n",
    "spearman_corr, _ = spearmanr(test_2016_290_predicted_pKd, test_2016_290_experimental_pKd)\n",
    "pearson_corr, _ = pearsonr(test_2016_290_predicted_pKd, test_2016_290_experimental_pKd)\n",
    "\n",
    "print(\"test_2016_290\")\n",
    "print(f\"MSE: {mse}\")\n",
    "print(f\"MAE: {mae}\")\n",
    "print(f\"RMSE: {rmse}\")\n",
    "print(f\"Spearman's Correlation: {spearman_corr}\")\n",
    "print(f\"Pearsons's Correlation (R): {pearson_corr}\")"
   ]
  },
  {
   "cell_type": "markdown",
   "metadata": {},
   "source": [
    "# CSAR HiQ 36"
   ]
  },
  {
   "cell_type": "code",
   "execution_count": 46,
   "metadata": {},
   "outputs": [],
   "source": [
    "csar_hiq_36_data = pd.read_csv(\"data/CSAR-HiQ_36.csv\")\n",
    "    \n",
    "# Extract sequences and smiles from benchmark dataset\n",
    "csar_hiq_36_prot_seqs = csar_hiq_36_data['seq'].tolist()\n",
    "csar_hiq_36_mol_smiles = csar_hiq_36_data['smiles_can'].tolist()\n",
    "csar_hiq_36_experimental_pKd = csar_hiq_36_data['neg_log10_affinity_M'].tolist()"
   ]
  },
  {
   "cell_type": "code",
   "execution_count": 47,
   "metadata": {},
   "outputs": [],
   "source": [
    "csar_hiq_36_predictions = plapt.predict_affinity(csar_hiq_36_prot_seqs,csar_hiq_36_mol_smiles)"
   ]
  },
  {
   "cell_type": "code",
   "execution_count": 48,
   "metadata": {},
   "outputs": [
    {
     "name": "stdout",
     "output_type": "stream",
     "text": [
      "csar_hiq_36\n",
      "MSE: 1.8194388728307287\n",
      "MAE: 1.157283093664381\n",
      "RMSE: 1.3488657727256366\n",
      "Spearman's Correlation: 0.7423423423423423\n",
      "Pearsons's Correlation (R): 0.7314860774522897\n"
     ]
    }
   ],
   "source": [
    "csar_hiq_36_predicted_pKd = [d['neg_log10_affinity_M'] for d in csar_hiq_36_predictions]\n",
    "\n",
    "# Ensure the lengths of the lists are the same\n",
    "if len(csar_hiq_36_predicted_pKd) != len(csar_hiq_36_experimental_pKd):\n",
    "    raise ValueError(\"The lengths of the predicted and experimental lists do not match.\")\n",
    "\n",
    "# Convert lists to numpy arrays for easier calculations\n",
    "csar_hiq_36_predicted_pKd = np.array(csar_hiq_36_predicted_pKd)\n",
    "csar_hiq_36_experimental_pKd = np.array(csar_hiq_36_experimental_pKd)\n",
    "\n",
    "mse = np.mean((csar_hiq_36_predicted_pKd - csar_hiq_36_experimental_pKd) ** 2)\n",
    "mae = np.mean(np.abs(csar_hiq_36_predicted_pKd - csar_hiq_36_experimental_pKd))\n",
    "rmse = np.sqrt(mse)\n",
    "\n",
    "# Calculate Spearman's correlation\n",
    "spearman_corr, _ = spearmanr(csar_hiq_36_predicted_pKd, csar_hiq_36_experimental_pKd)\n",
    "pearson_corr, _ = pearsonr(csar_hiq_36_predicted_pKd, csar_hiq_36_experimental_pKd)\n",
    "\n",
    "print(\"csar_hiq_36\")\n",
    "print(f\"MSE: {mse}\")\n",
    "print(f\"MAE: {mae}\")\n",
    "print(f\"RMSE: {rmse}\")\n",
    "print(f\"Spearman's Correlation: {spearman_corr}\")\n",
    "print(f\"Pearsons's Correlation (R): {pearson_corr}\")\n"
   ]
  },
  {
   "cell_type": "markdown",
   "metadata": {},
   "source": [
    "# Benchmark2k2101"
   ]
  },
  {
   "cell_type": "code",
   "execution_count": 49,
   "metadata": {},
   "outputs": [],
   "source": [
    "benchmark_data = pd.read_csv(\"data/benchmark1k2101.csv\")\n",
    "prot_seqs = benchmark_data['seq']\n",
    "mol_smiles = benchmark_data['smiles_can']\n",
    "experimental_pKd = benchmark_data['neg_log10_affinity_M']"
   ]
  },
  {
   "cell_type": "code",
   "execution_count": 50,
   "metadata": {},
   "outputs": [],
   "source": [
    "predictions = plapt.predict_affinity(prot_seqs,mol_smiles)"
   ]
  },
  {
   "cell_type": "code",
   "execution_count": 51,
   "metadata": {},
   "outputs": [
    {
     "name": "stdout",
     "output_type": "stream",
     "text": [
      "benchmark1k2101\n",
      "MSE: 0.8505429481953753\n",
      "MAE: 0.6883426528036773\n",
      "RMSE: 0.9222488537240777\n",
      "Spearman's Correlation: 0.8821411225023195\n",
      "Pearsons's Correlation (R): 0.8816018987554616\n"
     ]
    }
   ],
   "source": [
    "predicted_pKd = [d['neg_log10_affinity_M'] for d in predictions]\n",
    "\n",
    "# Ensure the lengths of the lists are the same\n",
    "if len(predicted_pKd) != len(experimental_pKd):\n",
    "    raise ValueError(\"The lengths of the predicted and experimental lists do not match.\")\n",
    "\n",
    "# Convert lists to numpy arrays for easier calculations\n",
    "predicted_pKd = np.array(predicted_pKd)\n",
    "experimental_pKd = np.array(experimental_pKd)\n",
    "\n",
    "mse = np.mean((predicted_pKd - experimental_pKd) ** 2)\n",
    "mae = np.mean(np.abs(predicted_pKd - experimental_pKd))\n",
    "rmse = np.sqrt(mse)\n",
    "\n",
    "# Calculate Spearman's correlation\n",
    "spearman_corr, _ = spearmanr(predicted_pKd, experimental_pKd)\n",
    "pearson_corr, _ = pearsonr(predicted_pKd, experimental_pKd)\n",
    "\n",
    "print(\"benchmark1k2101\")\n",
    "print(f\"MSE: {mse}\")\n",
    "print(f\"MAE: {mae}\")\n",
    "print(f\"RMSE: {rmse}\")\n",
    "print(f\"Spearman's Correlation: {spearman_corr}\")\n",
    "print(f\"Pearsons's Correlation (R): {pearson_corr}\")"
   ]
  },
  {
   "cell_type": "markdown",
   "metadata": {},
   "source": [
    "## Recreate Custom Benchmark"
   ]
  },
  {
   "cell_type": "code",
   "execution_count": null,
   "metadata": {},
   "outputs": [],
   "source": [
    "from datasets import load_dataset, Dataset\n",
    "import random\n",
    "random.seed(2101)\n",
    "benchmark_data = load_dataset(\"jglaser/binding_affinity\")['train'].select(random.sample(range(10001,20001), 1000))"
   ]
  },
  {
   "cell_type": "code",
   "execution_count": null,
   "metadata": {},
   "outputs": [],
   "source": [
    "benchmark_data.to_csv(\"data/benchmark1k2101.csv\")"
   ]
  }
 ],
 "metadata": {
  "kernelspec": {
   "display_name": "env",
   "language": "python",
   "name": "python3"
  },
  "language_info": {
   "codemirror_mode": {
    "name": "ipython",
    "version": 3
   },
   "file_extension": ".py",
   "mimetype": "text/x-python",
   "name": "python",
   "nbconvert_exporter": "python",
   "pygments_lexer": "ipython3",
   "version": "3.13.1"
  }
 },
 "nbformat": 4,
 "nbformat_minor": 2
}
