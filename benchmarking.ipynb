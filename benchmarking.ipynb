{
 "cells": [
  {
   "cell_type": "markdown",
   "metadata": {},
   "source": [
    "# Test_2016_290"
   ]
  },
  {
   "cell_type": "code",
   "execution_count": null,
   "metadata": {},
   "outputs": [],
   "source": [
    "import pandas as pd\n",
    "from plapt import Plapt"
   ]
  },
  {
   "cell_type": "code",
   "execution_count": null,
   "metadata": {},
   "outputs": [],
   "source": [
    "benchmark_data = pd.read_csv(\"data/Test2016_290.csv\")\n",
    "    \n",
    "# Extract sequences and smiles from benchmark dataset\n",
    "prot_seqs = benchmark_data['seq'].tolist()\n",
    "mol_smiles = benchmark_data['smiles_can'].tolist()\n",
    "experimental_pKd = benchmark_data['neg_log10_affinity_M'].tolist()"
   ]
  },
  {
   "cell_type": "code",
   "execution_count": null,
   "metadata": {},
   "outputs": [],
   "source": [
    "plapt = Plapt(caching=True)"
   ]
  },
  {
   "cell_type": "code",
   "execution_count": null,
   "metadata": {},
   "outputs": [],
   "source": [
    "predictions = plapt.predict_affinity(prot_seqs,mol_smiles)"
   ]
  },
  {
   "cell_type": "code",
   "execution_count": null,
   "metadata": {},
   "outputs": [],
   "source": [
    "import numpy as np\n",
    "from scipy.stats import spearmanr\n",
    "\n",
    "predicted_pKd = [d['neg_log10_affinity_M'] for d in predictions]\n",
    "\n",
    "# Ensure the lengths of the lists are the same\n",
    "if len(predicted_pKd) != len(experimental_pKd):\n",
    "    raise ValueError(\"The lengths of the predicted and experimental lists do not match.\")\n",
    "\n",
    "# Convert lists to numpy arrays for easier calculations\n",
    "predicted_pKd = np.array(predicted_pKd)\n",
    "experimental_pKd = np.array(experimental_pKd)\n",
    "\n",
    "# Calculate MSE\n",
    "mse = np.mean((predicted_pKd - experimental_pKd) ** 2)\n",
    "\n",
    "# Calculate MAE\n",
    "mae = np.mean(np.abs(predicted_pKd - experimental_pKd))\n",
    "\n",
    "# Calculate RMSE\n",
    "rmse = np.sqrt(mse)\n",
    "\n",
    "# Calculate Spearman's correlation\n",
    "spearman_corr, _ = spearmanr(predicted_pKd, experimental_pKd)\n",
    "\n",
    "print(f\"MSE: {mse}\")\n",
    "print(f\"MAE: {mae}\")\n",
    "print(f\"RMSE: {rmse}\")\n",
    "print(f\"Spearman's Correlation: {spearman_corr}\")"
   ]
  },
  {
   "cell_type": "code",
   "execution_count": null,
   "metadata": {},
   "outputs": [],
   "source": [
    "predictions = plapt.score_candidates(\n",
    "    \"MSDNGPQNQRNAPRITFGGPSDSTGSNQNGERSGARSKQRRPQGLPNNTASWFTALTQHGKEDLKFPRGQGVPINTNSSPDDQIGYYRRATRRIRGGDGKMKDLSPRWYFYYLGTGPEAGLPYGANKDGIIWVATEGALNTPKDHIGTRNPANNAAIVLQLPQGTTLPKGFYAEGSRGGSQASSRSSSRSRNSSRNSTPGSSRGTSPARMAGNGGDAALALLLLDRLNQLESKMSGKGQQQQGQTVTKKSAAEASKKPRQKRTATKAYNVTQAFGRRGPEQTQGNFGDQELIRQGTDYKHWPQIAQFAPSASAFFGMSRIGMEVTPSGTWLTYTGAIKLDDKDPNFKDQVILLNKHIDAYKTFPPTEPKKDKKKKADETQALPQRQKKQQTVTLLPAADLDDFSKQLQQSMSSADSTQA\",\n",
    "    mol_smiles\n",
    "    )\n",
    "predictions = pd.DataFrame(predictions)"
   ]
  },
  {
   "cell_type": "code",
   "execution_count": null,
   "metadata": {},
   "outputs": [],
   "source": [
    "predicted_pKd = predictions[\"neg_log10_affinity_M\"]"
   ]
  },
  {
   "cell_type": "markdown",
   "metadata": {},
   "source": [
    "# CSAR HiQ 36"
   ]
  },
  {
   "cell_type": "code",
   "execution_count": null,
   "metadata": {},
   "outputs": [],
   "source": [
    "import pandas as pd\n",
    "from plapt import Plapt"
   ]
  },
  {
   "cell_type": "code",
   "execution_count": null,
   "metadata": {},
   "outputs": [],
   "source": [
    "benchmark_data = pd.read_csv(\"data/CSAR-HiQ_36.csv\")\n",
    "    \n",
    "# Extract sequences and smiles from benchmark dataset\n",
    "prot_seqs = benchmark_data['seq'].tolist()\n",
    "mol_smiles = benchmark_data['smiles_can'].tolist()\n",
    "experimental_pKd = benchmark_data['neg_log10_affinity_M'].tolist()"
   ]
  },
  {
   "cell_type": "code",
   "execution_count": null,
   "metadata": {},
   "outputs": [],
   "source": [
    "plapt = Plapt(caching=True)"
   ]
  },
  {
   "cell_type": "code",
   "execution_count": null,
   "metadata": {},
   "outputs": [],
   "source": [
    "predictions = plapt.predict_affinity(prot_seqs,mol_smiles)"
   ]
  },
  {
   "cell_type": "code",
   "execution_count": null,
   "metadata": {},
   "outputs": [],
   "source": [
    "import numpy as np\n",
    "from scipy.stats import spearmanr, pearsonr\n",
    "\n",
    "predicted_pKd = [d['neg_log10_affinity_M'] for d in predictions]\n",
    "\n",
    "# Ensure the lengths of the lists are the same\n",
    "if len(predicted_pKd) != len(experimental_pKd):\n",
    "    raise ValueError(\"The lengths of the predicted and experimental lists do not match.\")\n",
    "\n",
    "# Convert lists to numpy arrays for easier calculations\n",
    "predicted_pKd = np.array(predicted_pKd)\n",
    "experimental_pKd = np.array(experimental_pKd)\n",
    "\n",
    "# Calculate MSE\n",
    "mse = np.mean((predicted_pKd - experimental_pKd) ** 2)\n",
    "\n",
    "# Calculate MAE\n",
    "mae = np.mean(np.abs(predicted_pKd - experimental_pKd))\n",
    "\n",
    "# Calculate RMSE\n",
    "rmse = np.sqrt(mse)\n",
    "\n",
    "# Calculate Spearman's correlation\n",
    "spearman_corr, _ = spearmanr(predicted_pKd, experimental_pKd)\n",
    "pearson_corr, _ = pearsonr(predicted_pKd, experimental_pKd)\n",
    "\n",
    "print(f\"MSE: {mse}\")\n",
    "print(f\"MAE: {mae}\")\n",
    "print(f\"RMSE: {rmse}\")\n",
    "print(f\"Spearman's Correlation: {spearman_corr}\")\n",
    "print(f\"Pearsons's Correlation: {pearson_corr}\")"
   ]
  },
  {
   "cell_type": "code",
   "execution_count": null,
   "metadata": {},
   "outputs": [],
   "source": [
    "import json\n",
    "\n",
    "features = plapt.get_cached_features()\n",
    "with open('data/CSAR-HiQ_36_features.json', 'w') as file:\n",
    "    json.dump(features, file)\n",
    "\n",
    "with open('data/CSAR-HiQ_36_pKd.json', 'w') as file:\n",
    "    json.dump(experimental_pKd, file)\n",
    "plapt.clear_cache()"
   ]
  },
  {
   "cell_type": "markdown",
   "metadata": {},
   "source": [
    "## Custom Benchmark"
   ]
  },
  {
   "cell_type": "code",
   "execution_count": null,
   "metadata": {},
   "outputs": [],
   "source": [
    "from datasets import load_dataset, Dataset\n",
    "import random\n",
    "random.seed(2101)\n",
    "benchmark_data = load_dataset(\"jglaser/binding_affinity\")['train'].select(random.sample(range(10001,20001), 1000))"
   ]
  },
  {
   "cell_type": "code",
   "execution_count": null,
   "metadata": {},
   "outputs": [],
   "source": [
    "benchmark_data.to_csv(\"data/benchmark1k2101.csv\")"
   ]
  },
  {
   "cell_type": "code",
   "execution_count": null,
   "metadata": {},
   "outputs": [],
   "source": [
    "prot_seqs = benchmark_data['seq']\n",
    "mol_smiles = benchmark_data['smiles_can']\n",
    "experimental_pKd = benchmark_data['neg_log10_affinity_M']"
   ]
  },
  {
   "cell_type": "code",
   "execution_count": null,
   "metadata": {},
   "outputs": [],
   "source": [
    "from plapt import Plapt\n",
    "plapt = Plapt(caching=True)"
   ]
  },
  {
   "cell_type": "code",
   "execution_count": null,
   "metadata": {},
   "outputs": [],
   "source": [
    "predictions = plapt.predict_affinity(prot_seqs,mol_smiles)"
   ]
  },
  {
   "cell_type": "code",
   "execution_count": null,
   "metadata": {},
   "outputs": [],
   "source": [
    "import numpy as np\n",
    "from scipy.stats import spearmanr\n",
    "\n",
    "predicted_pKd = [d['neg_log10_affinity_M'] for d in predictions]\n",
    "\n",
    "# Ensure the lengths of the lists are the same\n",
    "if len(predicted_pKd) != len(experimental_pKd):\n",
    "    raise ValueError(\"The lengths of the predicted and experimental lists do not match.\")\n",
    "\n",
    "# Convert lists to numpy arrays for easier calculations\n",
    "predicted_pKd = np.array(predicted_pKd)\n",
    "experimental_pKd = np.array(experimental_pKd)\n",
    "\n",
    "# Calculate MSE\n",
    "mse = np.mean((predicted_pKd - experimental_pKd) ** 2)\n",
    "\n",
    "# Calculate MAE\n",
    "mae = np.mean(np.abs(predicted_pKd - experimental_pKd))\n",
    "\n",
    "# Calculate RMSE\n",
    "rmse = np.sqrt(mse)\n",
    "\n",
    "# Calculate Spearman's correlation\n",
    "spearman_corr, _ = spearmanr(predicted_pKd, experimental_pKd)\n",
    "\n",
    "print(f\"MSE: {mse}\")\n",
    "print(f\"MAE: {mae}\")\n",
    "print(f\"RMSE: {rmse}\")\n",
    "print(f\"Spearman's Correlation: {spearman_corr}\")"
   ]
  },
  {
   "cell_type": "code",
   "execution_count": null,
   "metadata": {},
   "outputs": [],
   "source": [
    "import json\n",
    "\n",
    "features = plapt.get_cached_features()\n",
    "with open('data/benchmark1k2101_features.json', 'w') as file:\n",
    "    json.dump(features, file)\n",
    "\n",
    "with open('data/benchmark1k2101_pKd.json', 'w') as file:\n",
    "    json.dump(experimental_pKd, file)\n",
    "plapt.clear_cache()"
   ]
  },
  {
   "cell_type": "markdown",
   "metadata": {},
   "source": [
    "# Visualization"
   ]
  },
  {
   "cell_type": "code",
   "execution_count": null,
   "metadata": {},
   "outputs": [],
   "source": [
    "import matplotlib.pyplot as plt\n",
    "import numpy as np\n",
    "from sklearn.metrics import mean_squared_error, mean_absolute_error, r2_score\n",
    "from scipy.stats import pearsonr\n",
    "\n",
    "# Plotting the straight line test\n",
    "plt.scatter(experimental_pKd, predicted_pKd, color='blue')\n",
    "plt.plot([min(experimental_pKd), max(experimental_pKd)], [min(predicted_pKd), max(predicted_pKd)], color='red') # Line\n",
    "plt.xlabel('Experimental pKd')\n",
    "plt.ylabel('Predicted pKd')\n",
    "plt.title('Straight Line Test')\n",
    "plt.show()\n",
    "\n",
    "# Calculating Metrics\n",
    "mse = mean_squared_error(experimental_pKd, predicted_pKd)\n",
    "mae = mean_absolute_error(experimental_pKd, predicted_pKd)\n",
    "rmse = np.sqrt(mse)\n",
    "pearson_corr, _ = pearsonr(experimental_pKd, predicted_pKd)\n",
    "\n",
    "print(\"Mean Squared Error (MSE):\", mse)\n",
    "print(\"Mean Absolute Error (MAE):\", mae)\n",
    "print(\"Root Mean Squared Error (RMSE):\", rmse)\n",
    "print(\"Pearson's Correlation Coefficient:\", pearson_corr)\n"
   ]
  }
 ],
 "metadata": {
  "kernelspec": {
   "display_name": "Python 3",
   "language": "python",
   "name": "python3"
  },
  "language_info": {
   "codemirror_mode": {
    "name": "ipython",
    "version": 3
   },
   "file_extension": ".py",
   "mimetype": "text/x-python",
   "name": "python",
   "nbconvert_exporter": "python",
   "pygments_lexer": "ipython3",
   "version": "3.10.11"
  }
 },
 "nbformat": 4,
 "nbformat_minor": 2
}
