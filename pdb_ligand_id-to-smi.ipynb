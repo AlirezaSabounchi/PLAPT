{
 "cells": [
  {
   "cell_type": "code",
   "execution_count": 1,
   "id": "4949a939",
   "metadata": {},
   "outputs": [],
   "source": [
    "import csv, sys\n",
    "import os\n",
    "import os.path\n",
    "from pandas import *\n",
    "from rdkit import Chem\n",
    "import pandas as pd"
   ]
  },
  {
   "cell_type": "code",
   "execution_count": 2,
   "id": "fe01534a",
   "metadata": {},
   "outputs": [
    {
     "data": {
      "text/html": [
       "<div>\n",
       "<style scoped>\n",
       "    .dataframe tbody tr th:only-of-type {\n",
       "        vertical-align: middle;\n",
       "    }\n",
       "\n",
       "    .dataframe tbody tr th {\n",
       "        vertical-align: top;\n",
       "    }\n",
       "\n",
       "    .dataframe thead th {\n",
       "        text-align: right;\n",
       "    }\n",
       "</style>\n",
       "<table border=\"1\" class=\"dataframe\">\n",
       "  <thead>\n",
       "    <tr style=\"text-align: right;\">\n",
       "      <th></th>\n",
       "      <th>Ligand ID</th>\n",
       "    </tr>\n",
       "  </thead>\n",
       "  <tbody>\n",
       "    <tr>\n",
       "      <th>0</th>\n",
       "      <td>198</td>\n",
       "    </tr>\n",
       "    <tr>\n",
       "      <th>1</th>\n",
       "      <td>EHF</td>\n",
       "    </tr>\n",
       "    <tr>\n",
       "      <th>2</th>\n",
       "      <td>HSA</td>\n",
       "    </tr>\n",
       "    <tr>\n",
       "      <th>3</th>\n",
       "      <td>VDX</td>\n",
       "    </tr>\n",
       "    <tr>\n",
       "      <th>4</th>\n",
       "      <td>DM5</td>\n",
       "    </tr>\n",
       "    <tr>\n",
       "      <th>5</th>\n",
       "      <td>9TP</td>\n",
       "    </tr>\n",
       "    <tr>\n",
       "      <th>6</th>\n",
       "      <td>YR3</td>\n",
       "    </tr>\n",
       "    <tr>\n",
       "      <th>7</th>\n",
       "      <td>EVP</td>\n",
       "    </tr>\n",
       "    <tr>\n",
       "      <th>8</th>\n",
       "      <td>MYR</td>\n",
       "    </tr>\n",
       "  </tbody>\n",
       "</table>\n",
       "</div>"
      ],
      "text/plain": [
       "  Ligand ID\n",
       "0       198\n",
       "1       EHF\n",
       "2       HSA\n",
       "3       VDX\n",
       "4       DM5\n",
       "5       9TP\n",
       "6       YR3\n",
       "7       EVP\n",
       "8       MYR"
      ]
     },
     "execution_count": 2,
     "metadata": {},
     "output_type": "execute_result"
    }
   ],
   "source": [
    "# Reading ligand IDs\n",
    "df = pd.read_csv('lig-ids.csv', sep=',')\n",
    "df"
   ]
  },
  {
   "cell_type": "code",
   "execution_count": 3,
   "id": "2f94eb8a",
   "metadata": {},
   "outputs": [],
   "source": [
    "# defining output dir\n",
    "lig_dir = \"ligands-sdf\"\n",
    "\n",
    "ligand_id_file = pd.read_csv(\"lig-ids.csv\")"
   ]
  },
  {
   "cell_type": "code",
   "execution_count": 4,
   "id": "4e746142",
   "metadata": {},
   "outputs": [
    {
     "name": "stdout",
     "output_type": "stream",
     "text": [
      "['198', 'EHF', 'HSA', 'VDX', 'DM5', '9TP', 'YR3', 'EVP', 'MYR']\n"
     ]
    }
   ],
   "source": [
    "# Reading IDs to list\n",
    "lig_ids = ligand_id_file['Ligand ID'].to_list()\n",
    "\n",
    "print(lig_ids)"
   ]
  },
  {
   "cell_type": "code",
   "execution_count": 5,
   "id": "50e02e17",
   "metadata": {},
   "outputs": [],
   "source": [
    "#making and changing to ligands-sdf directory\n",
    "os.mkdir(lig_dir)\n",
    "os.chdir(lig_dir)"
   ]
  },
  {
   "cell_type": "code",
   "execution_count": 11,
   "id": "2bf83baf",
   "metadata": {
    "scrolled": true
   },
   "outputs": [
    {
     "name": "stdout",
     "output_type": "stream",
     "text": [
      "1\n",
      "1\n",
      "1\n",
      "1\n",
      "1\n",
      "1\n",
      "1\n",
      "1\n",
      "1\n"
     ]
    }
   ],
   "source": [
    "#downloading sdf structures\n",
    "\n",
    "for id in lig_ids:\n",
    "    cmd = os.system(\"wget \"+\" \"+\"https://files.rcsb.org/ligands/\"+id[0]+\"/\"+id+\"/\"+id+\"_ideal.sdf\")\n",
    "    print(cmd)\n"
   ]
  },
  {
   "cell_type": "code",
   "execution_count": 7,
   "id": "e0ec2f44",
   "metadata": {},
   "outputs": [],
   "source": [
    "# Joining all ligand files into a single SDF file\n",
    "\n",
    "join_cmd = os.system(\"cat *.sdf > ligands.sdf\")\n",
    "joined_ligands = \"ligands.sdf\""
   ]
  },
  {
   "cell_type": "code",
   "execution_count": 8,
   "id": "ca71891a",
   "metadata": {},
   "outputs": [
    {
     "ename": "OSError",
     "evalue": "File error: Invalid input file ligands.sdf",
     "output_type": "error",
     "traceback": [
      "\u001b[1;31m---------------------------------------------------------------------------\u001b[0m",
      "\u001b[1;31mOSError\u001b[0m                                   Traceback (most recent call last)",
      "\u001b[1;32mc:\\Users\\shen_\\OneDrive\\Desktop\\PLBAP\\WELP-PLAPT\\pdb_ligand_id-to-smi.ipynb Cell 8\u001b[0m line \u001b[0;36m1\n\u001b[0;32m     <a href='vscode-notebook-cell:/c%3A/Users/shen_/OneDrive/Desktop/PLBAP/WELP-PLAPT/pdb_ligand_id-to-smi.ipynb#X10sZmlsZQ%3D%3D?line=10'>11</a>\u001b[0m     out_file\u001b[39m.\u001b[39mclose()\n\u001b[0;32m     <a href='vscode-notebook-cell:/c%3A/Users/shen_/OneDrive/Desktop/PLBAP/WELP-PLAPT/pdb_ligand_id-to-smi.ipynb#X10sZmlsZQ%3D%3D?line=11'>12</a>\u001b[0m \u001b[39mif\u001b[39;00m \u001b[39m__name__\u001b[39m \u001b[39m==\u001b[39m \u001b[39m\"\u001b[39m\u001b[39m__main__\u001b[39m\u001b[39m\"\u001b[39m:\n\u001b[1;32m---> <a href='vscode-notebook-cell:/c%3A/Users/shen_/OneDrive/Desktop/PLBAP/WELP-PLAPT/pdb_ligand_id-to-smi.ipynb#X10sZmlsZQ%3D%3D?line=12'>13</a>\u001b[0m     converter(joined_ligands)\n\u001b[0;32m     <a href='vscode-notebook-cell:/c%3A/Users/shen_/OneDrive/Desktop/PLBAP/WELP-PLAPT/pdb_ligand_id-to-smi.ipynb#X10sZmlsZQ%3D%3D?line=13'>14</a>\u001b[0m     \u001b[39mprint\u001b[39m(\u001b[39m\"\u001b[39m\u001b[39mGenerated SMILES are present in smiles.txt file\u001b[39m\u001b[39m\"\u001b[39m)\n",
      "\u001b[1;32mc:\\Users\\shen_\\OneDrive\\Desktop\\PLBAP\\WELP-PLAPT\\pdb_ligand_id-to-smi.ipynb Cell 8\u001b[0m line \u001b[0;36m4\n\u001b[0;32m      <a href='vscode-notebook-cell:/c%3A/Users/shen_/OneDrive/Desktop/PLBAP/WELP-PLAPT/pdb_ligand_id-to-smi.ipynb#X10sZmlsZQ%3D%3D?line=2'>3</a>\u001b[0m \u001b[39mdef\u001b[39;00m \u001b[39mconverter\u001b[39m(file_name):\n\u001b[1;32m----> <a href='vscode-notebook-cell:/c%3A/Users/shen_/OneDrive/Desktop/PLBAP/WELP-PLAPT/pdb_ligand_id-to-smi.ipynb#X10sZmlsZQ%3D%3D?line=3'>4</a>\u001b[0m     sdf_file \u001b[39m=\u001b[39m Chem\u001b[39m.\u001b[39;49mSDMolSupplier(file_name)\n\u001b[0;32m      <a href='vscode-notebook-cell:/c%3A/Users/shen_/OneDrive/Desktop/PLBAP/WELP-PLAPT/pdb_ligand_id-to-smi.ipynb#X10sZmlsZQ%3D%3D?line=5'>6</a>\u001b[0m     out_file \u001b[39m=\u001b[39m \u001b[39mopen\u001b[39m(\u001b[39m'\u001b[39m\u001b[39msmiles.txt\u001b[39m\u001b[39m'\u001b[39m, \u001b[39m\"\u001b[39m\u001b[39mw\u001b[39m\u001b[39m\"\u001b[39m)\n\u001b[0;32m      <a href='vscode-notebook-cell:/c%3A/Users/shen_/OneDrive/Desktop/PLBAP/WELP-PLAPT/pdb_ligand_id-to-smi.ipynb#X10sZmlsZQ%3D%3D?line=6'>7</a>\u001b[0m     \u001b[39mfor\u001b[39;00m mol \u001b[39min\u001b[39;00m sdf_file:\n",
      "\u001b[1;31mOSError\u001b[0m: File error: Invalid input file ligands.sdf"
     ]
    }
   ],
   "source": [
    "# converting SDF to SMILES using RDKit\n",
    "\n",
    "def converter(file_name):\n",
    "    sdf_file = Chem.SDMolSupplier(file_name)\n",
    "    \n",
    "    out_file = open('smiles.txt', \"w\")\n",
    "    for mol in sdf_file:\n",
    "        if mol is not None:             # avoiding compounds that cannot be loaded.\n",
    "            smi = Chem.MolToSmiles(mol)\n",
    "            out_file.write(f\"{smi}\\n\")\n",
    "    out_file.close()\n",
    "if __name__ == \"__main__\":\n",
    "    converter(joined_ligands)\n",
    "    print(\"Generated SMILES are present in smiles.txt file\")"
   ]
  },
  {
   "cell_type": "code",
   "execution_count": null,
   "id": "4153016c",
   "metadata": {},
   "outputs": [],
   "source": []
  }
 ],
 "metadata": {
  "kernelspec": {
   "display_name": "Python 3 (ipykernel)",
   "language": "python",
   "name": "python3"
  },
  "language_info": {
   "codemirror_mode": {
    "name": "ipython",
    "version": 3
   },
   "file_extension": ".py",
   "mimetype": "text/x-python",
   "name": "python",
   "nbconvert_exporter": "python",
   "pygments_lexer": "ipython3",
   "version": "3.11.4"
  }
 },
 "nbformat": 4,
 "nbformat_minor": 5
}
