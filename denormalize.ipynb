{
 "cells": [
  {
   "cell_type": "code",
   "execution_count": 9,
   "metadata": {},
   "outputs": [],
   "source": [
    "import json\n",
    "from sklearn.preprocessing import StandardScaler\n",
    "\n",
    "# Load scaling parameters\n",
    "with open('scaling.json', 'r') as file:\n",
    "    scaling_params = json.load(file)\n",
    "\n",
    "# Initialize the scaler with loaded parameters\n",
    "scaler = StandardScaler()\n",
    "scaler.__dict__.update(scaling_params)\n",
    "\n",
    "# Assume 'scaled_data' is the data you want to denormalize\n",
    "scaled_data = [[0.691712], [-2.054668]]\n",
    "\n",
    "# Denormalize the data\n",
    "original_data = scaler.inverse_transform(scaled_data)\n"
   ]
  },
  {
   "cell_type": "code",
   "execution_count": 8,
   "metadata": {},
   "outputs": [
    {
     "data": {
      "text/plain": [
       "array([[7.59291095],\n",
       "       [3.30468724]])"
      ]
     },
     "execution_count": 8,
     "metadata": {},
     "output_type": "execute_result"
    }
   ],
   "source": [
    "original_data"
   ]
  },
  {
   "cell_type": "code",
   "execution_count": null,
   "metadata": {},
   "outputs": [],
   "source": []
  }
 ],
 "metadata": {
  "kernelspec": {
   "display_name": "Python 3",
   "language": "python",
   "name": "python3"
  },
  "language_info": {
   "codemirror_mode": {
    "name": "ipython",
    "version": 3
   },
   "file_extension": ".py",
   "mimetype": "text/x-python",
   "name": "python",
   "nbconvert_exporter": "python",
   "pygments_lexer": "ipython3",
   "version": "3.11.7"
  }
 },
 "nbformat": 4,
 "nbformat_minor": 2
}
