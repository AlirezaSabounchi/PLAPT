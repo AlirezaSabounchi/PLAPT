{
 "cells": [
  {
   "cell_type": "code",
   "execution_count": 10,
   "metadata": {},
   "outputs": [],
   "source": [
    "from rdkit import Chem\n",
    "import configparser\n",
    "import glob\n",
    "import os\n",
    "import pandas as pd\n",
    "from Bio import PDB"
   ]
  },
  {
   "cell_type": "code",
   "execution_count": 11,
   "metadata": {},
   "outputs": [
    {
     "data": {
      "text/plain": [
       "['config.ini']"
      ]
     },
     "execution_count": 11,
     "metadata": {},
     "output_type": "execute_result"
    }
   ],
   "source": [
    "# Load configuration from the INI file\n",
    "config = configparser.ConfigParser()\n",
    "config.read('config.ini')"
   ]
  },
  {
   "cell_type": "code",
   "execution_count": 12,
   "metadata": {},
   "outputs": [],
   "source": [
    "#mapping for three letter amino acid sequences to their 1 letter versions\n",
    "aa3_to_aa1 = {\n",
    "    'ALA': 'A', 'ARG': 'R', 'ASN': 'N', 'ASP': 'D', 'CYS': 'C',\n",
    "    'GLN': 'Q', 'GLU': 'E', 'GLY': 'G', 'HIS': 'H', 'ILE': 'I',\n",
    "    'LEU': 'L', 'LYS': 'K', 'MET': 'M', 'PHE': 'F', 'PRO': 'P',\n",
    "    'SER': 'S', 'THR': 'T', 'TRP': 'W', 'TYR': 'Y', 'VAL': 'V',\n",
    "    'PCA': 'Q' #for some reason the pdb bind data has PCA, which I'm pretty sure doesn't exist, and according to official PDB bind sources, it should be Q.\n",
    "}"
   ]
  },
  {
   "cell_type": "code",
   "execution_count": 26,
   "metadata": {},
   "outputs": [
    {
     "data": {
      "text/plain": [
       "'CS(=O)(=O)CC[NH2+]Cc1ccc(-c2ccc3ncnc(Nc4ccc(OCc5cccc(F)c5)c(Cl)c4)c3c2)o1'"
      ]
     },
     "execution_count": 26,
     "metadata": {},
     "output_type": "execute_result"
    }
   ],
   "source": [
    "def get_smiles(pdbid):\n",
    "    sdf_folder_path = os.path.join(config[\"Paths\"][\"raw_data_path_refined\"],pdbid) if os.path.exists(os.path.join(config[\"Paths\"][\"raw_data_path_refined\"],pdbid)) else os.path.join(config[\"Paths\"][\"raw_data_path_general\"],pdbid)\n",
    "    if not os.path.exists(sdf_folder_path):\n",
    "        raise FileNotFoundError(\"could not find the data for the given pdb id\", pdbid, sdf_folder_path)\n",
    "    \n",
    "    #this is the path to the actual protein pdb file\n",
    "    sdf_file_path = glob.glob(os.path.join(sdf_folder_path,\"*ligand.sdf\"))\n",
    "\n",
    "    #make sure the file exists\n",
    "    if sdf_file_path:\n",
    "        sdf_file_path=sdf_file_path[0]\n",
    "    else:\n",
    "        raise FileNotFoundError(\"unable to find protein pdb file\", sdf_file_path)\n",
    "    \n",
    "    # Read SDF file\n",
    "    supplier = Chem.SDMolSupplier(sdf_file_path)\n",
    "    \n",
    "    # Open output file\n",
    "\n",
    "    for mol in supplier:\n",
    "        if mol is not None:\n",
    "            # Return smiles string\n",
    "            return Chem.MolToSmiles(mol)\n",
    "    return \"\"\n",
    "\n",
    "get_smiles(\"1xkk\")"
   ]
  },
  {
   "cell_type": "code",
   "execution_count": 25,
   "metadata": {},
   "outputs": [
    {
     "data": {
      "text/plain": [
       "'ALLRILKETEFKKIKVLGSGAFGTVYKGLWIPVKIPVAIKELREKANKEILDEAYVMASVDNPHVCRLLGICLTSTVQLITQLMPFGCLLDYVREHKDNIGSQYLLNWCVQIAKGMNYLEDRRLVHRDLAARNVLVKTPQHVKITDFGLAKLLGAEEKVPIKWMALESILHRIYTHQSDVWSYGVTVWELMTFGSKPYDGIPASEISSILEKGERLPQPPICTIDVYMIMVKCWMIDADSRPKFRELIIEFSKMARDPQRYLVIQGDERMSNFYRALMDEVVDADEYLI'"
      ]
     },
     "execution_count": 25,
     "metadata": {},
     "output_type": "execute_result"
    }
   ],
   "source": [
    "pdb_parser = PDB.PDBParser(QUIET=True)  # QUIET=True suppresses warnings\n",
    "\n",
    "def get_sequence(pdbid):\n",
    "    pdb_folder_path = os.path.join(config[\"Paths\"][\"raw_data_path_refined\"],pdbid) if os.path.exists(os.path.join(config[\"Paths\"][\"raw_data_path_refined\"],pdbid)) else os.path.join(config[\"Paths\"][\"raw_data_path_general\"],pdbid)\n",
    "    if not os.path.exists(pdb_folder_path):\n",
    "        raise FileNotFoundError(\"could not find the data for the given pdb id\", pdbid, pdb_folder_path)\n",
    "    \n",
    "    #this is the path to the actual protein pdb file\n",
    "    pdb_file_path = glob.glob(os.path.join(pdb_folder_path,\"*protein.pdb\"))\n",
    "\n",
    "    #make sure the file exists\n",
    "    if pdb_file_path:\n",
    "        pdb_file_path=pdb_file_path[0]\n",
    "    else:\n",
    "        raise FileNotFoundError(\"unable to find protein pdb file\", pdb_file_path)\n",
    "    \n",
    "    protein_structure = pdb_parser.get_structure(\"protein\", pdb_file_path)\n",
    "    \n",
    "    for model in protein_structure:\n",
    "        sequences = []\n",
    "        for chain in model:\n",
    "            sequence = ''\n",
    "            for residue in chain:\n",
    "                # if PDB.is_aa(residue):\n",
    "                if str(residue.get_resname()) in aa3_to_aa1:\n",
    "                    sequence += aa3_to_aa1[residue.get_resname()]\n",
    "                else: \n",
    "                    sequence += \"X\"\n",
    "            return sequence\n",
    "            if sequence != '':\n",
    "                sequences.append(sequence)\n",
    "    return \"\"\n",
    "\n",
    "get_sequence(pdbid=\"1xkk\")\n",
    "\"MKKGHHHHHHDYDIPTTENLYFQGSGEAPNQALLRILKETEFKKIKVLGSGAFGTVYKGLWIPEGEKVKIPVAIKELREATSPKANKEILDEAYVMASVDNPHVCRLLGICLTSTVQLITQLMPFGCLLDYVREHKDNIGSQYLLNWCVQIAKGMNYLEDRRLVHRDLAARNVLVKTPQHVKITDFGLAKLLGAEEKEYHAEGGKVPIKWMALESILHRIYTHQSDVWSYGVTVWELMTFGSKPYDGIPASEISSILEKGERLPQPPICTIDVYMIMVKCWMIDADSRPKFRELIIEFSKMARDPQRYLVIQGDERMHLPSPTDSNFYRALMDEEDMDDVVDADEYLIPQQG\""
   ]
  },
  {
   "cell_type": "code",
   "execution_count": 14,
   "metadata": {},
   "outputs": [],
   "source": [
    "column_names = [\"PDB id\", \"-logKd/Ki\", \"Kd/Ki\"]\n",
    "\n",
    "#read the index file from one of the datasets. The index file is basically where the real data is. It has the binding affinities.\n",
    "def read_index_file(dataset_version):\n",
    "    #handle the different dataset versions. Either using the refined dataset or the general set.\n",
    "    if dataset_version not in [\"general\", \"refined\"]:\n",
    "        raise ValueError('dataset_version must be either \"general\" or \"refined\"')\n",
    "    config_path_value = \"raw_data_path_refined\" if dataset_version == \"refined\" else \"raw_data_path_general\"\n",
    "\n",
    "    #default index file is INDEX_refined_data for refined version and INDEX_general_PL_data for general version\n",
    "    index_file_name=\"INDEX_refined_data*\" if dataset_version == \"refined\" else \"INDEX_general_PL_data*\"\n",
    "\n",
    "    #create the file path\n",
    "    file_path = glob.glob(os.path.join(config[\"Paths\"][config_path_value], \"index\", index_file_name))\n",
    "\n",
    "    #make sure the file exists\n",
    "    if file_path:\n",
    "        file_path=file_path[0]\n",
    "    else:\n",
    "        raise FileNotFoundError(\"unable to find index file\", os.path.join(config[\"Paths\"][\"file_path_refined\"],\"index\",index_file_name))\n",
    "\n",
    "    #read and load the data using pandas. Only reading columns 0, 3, 4\n",
    "    data = pd.read_csv(file_path, sep='\\s+', header=None,comment='#',usecols=[0, 3, 4])\n",
    "    data.columns=column_names\n",
    "    return data\n"
   ]
  },
  {
   "cell_type": "code",
   "execution_count": 20,
   "metadata": {},
   "outputs": [
    {
     "data": {
      "text/html": [
       "<div>\n",
       "<style scoped>\n",
       "    .dataframe tbody tr th:only-of-type {\n",
       "        vertical-align: middle;\n",
       "    }\n",
       "\n",
       "    .dataframe tbody tr th {\n",
       "        vertical-align: top;\n",
       "    }\n",
       "\n",
       "    .dataframe thead th {\n",
       "        text-align: right;\n",
       "    }\n",
       "</style>\n",
       "<table border=\"1\" class=\"dataframe\">\n",
       "  <thead>\n",
       "    <tr style=\"text-align: right;\">\n",
       "      <th></th>\n",
       "      <th>PDB id</th>\n",
       "      <th>-logKd/Ki</th>\n",
       "      <th>Kd/Ki</th>\n",
       "    </tr>\n",
       "  </thead>\n",
       "  <tbody>\n",
       "    <tr>\n",
       "      <th>0</th>\n",
       "      <td>2r58</td>\n",
       "      <td>2.00</td>\n",
       "      <td>Kd=10mM</td>\n",
       "    </tr>\n",
       "    <tr>\n",
       "      <th>1</th>\n",
       "      <td>3c2f</td>\n",
       "      <td>2.00</td>\n",
       "      <td>Kd=10.1mM</td>\n",
       "    </tr>\n",
       "    <tr>\n",
       "      <th>2</th>\n",
       "      <td>3g2y</td>\n",
       "      <td>2.00</td>\n",
       "      <td>Ki=10mM</td>\n",
       "    </tr>\n",
       "    <tr>\n",
       "      <th>3</th>\n",
       "      <td>3pce</td>\n",
       "      <td>2.00</td>\n",
       "      <td>Ki=10mM</td>\n",
       "    </tr>\n",
       "    <tr>\n",
       "      <th>4</th>\n",
       "      <td>4qsu</td>\n",
       "      <td>2.00</td>\n",
       "      <td>Kd=10mM</td>\n",
       "    </tr>\n",
       "    <tr>\n",
       "      <th>...</th>\n",
       "      <td>...</td>\n",
       "      <td>...</td>\n",
       "      <td>...</td>\n",
       "    </tr>\n",
       "    <tr>\n",
       "      <th>5311</th>\n",
       "      <td>4f3c</td>\n",
       "      <td>11.82</td>\n",
       "      <td>Ki=1.5pM</td>\n",
       "    </tr>\n",
       "    <tr>\n",
       "      <th>5312</th>\n",
       "      <td>5bry</td>\n",
       "      <td>11.82</td>\n",
       "      <td>Ki=0.0015nM</td>\n",
       "    </tr>\n",
       "    <tr>\n",
       "      <th>5313</th>\n",
       "      <td>1sl3</td>\n",
       "      <td>11.85</td>\n",
       "      <td>Ki=1.4pM</td>\n",
       "    </tr>\n",
       "    <tr>\n",
       "      <th>5314</th>\n",
       "      <td>1ctu</td>\n",
       "      <td>11.92</td>\n",
       "      <td>Ki=1.2pM</td>\n",
       "    </tr>\n",
       "    <tr>\n",
       "      <th>5315</th>\n",
       "      <td>6e9a</td>\n",
       "      <td>11.92</td>\n",
       "      <td>Ki=0.0012nM</td>\n",
       "    </tr>\n",
       "  </tbody>\n",
       "</table>\n",
       "<p>5316 rows × 3 columns</p>\n",
       "</div>"
      ],
      "text/plain": [
       "     PDB id  -logKd/Ki        Kd/Ki\n",
       "0      2r58       2.00      Kd=10mM\n",
       "1      3c2f       2.00    Kd=10.1mM\n",
       "2      3g2y       2.00      Ki=10mM\n",
       "3      3pce       2.00      Ki=10mM\n",
       "4      4qsu       2.00      Kd=10mM\n",
       "...     ...        ...          ...\n",
       "5311   4f3c      11.82     Ki=1.5pM\n",
       "5312   5bry      11.82  Ki=0.0015nM\n",
       "5313   1sl3      11.85     Ki=1.4pM\n",
       "5314   1ctu      11.92     Ki=1.2pM\n",
       "5315   6e9a      11.92  Ki=0.0012nM\n",
       "\n",
       "[5316 rows x 3 columns]"
      ]
     },
     "execution_count": 20,
     "metadata": {},
     "output_type": "execute_result"
    }
   ],
   "source": [
    "refined_data=read_index_file(dataset_version=\"refined\")\n",
    "refined_data['Sequence'] = refined_data[\"PDB id\"].apply(get_sequence)\n",
    "refined_data"
   ]
  },
  {
   "cell_type": "code",
   "execution_count": 19,
   "metadata": {},
   "outputs": [],
   "source": [
    "refined_data.to_csv(config[\"Paths\"][\"output_processed_data_path\"],index=False)"
   ]
  },
  {
   "cell_type": "code",
   "execution_count": null,
   "metadata": {},
   "outputs": [],
   "source": [
    "\n",
    "# Load the SDF file\n",
    "supplier = Chem.SDMolSupplier('path_to_your_file.sdf')\n",
    "\n",
    "# Loop through all molecules in the SDF file\n",
    "for mol in supplier:\n",
    "    if mol is not None:  # Check if the molecule is valid\n",
    "        # Get the SMILES string for each molecule\n",
    "        smiles = Chem.MolToSmiles(mol)\n",
    "        print(smiles)\n"
   ]
  }
 ],
 "metadata": {
  "kernelspec": {
   "display_name": "Python 3",
   "language": "python",
   "name": "python3"
  },
  "language_info": {
   "codemirror_mode": {
    "name": "ipython",
    "version": 3
   },
   "file_extension": ".py",
   "mimetype": "text/x-python",
   "name": "python",
   "nbconvert_exporter": "python",
   "pygments_lexer": "ipython3",
   "version": "3.11.6"
  }
 },
 "nbformat": 4,
 "nbformat_minor": 2
}
