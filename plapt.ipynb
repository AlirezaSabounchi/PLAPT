{
 "cells": [
  {
   "cell_type": "code",
   "execution_count": 26,
   "metadata": {},
   "outputs": [],
   "source": [
    "# Given Imports\n",
    "import torch\n",
    "import torch.nn as nn\n",
    "import torch.optim as optim\n",
    "import statistics\n",
    "import re\n",
    "import os\n",
    "from torch.utils.data import DataLoader, TensorDataset\n",
    "from transformers import BertModel, BertTokenizer, RobertaModel, RobertaTokenizer, AdamW\n",
    "from datasets import load_dataset"
   ]
  },
  {
   "cell_type": "code",
   "execution_count": 27,
   "metadata": {},
   "outputs": [],
   "source": [
    "device = torch.device(\"cuda\" if torch.cuda.is_available() else \"cpu\")"
   ]
  },
  {
   "cell_type": "code",
   "execution_count": 28,
   "metadata": {},
   "outputs": [],
   "source": [
    "torch.cuda.empty_cache()"
   ]
  },
  {
   "cell_type": "markdown",
   "metadata": {},
   "source": [
    "### Load Encoders and Tokenizers"
   ]
  },
  {
   "cell_type": "code",
   "execution_count": 29,
   "metadata": {},
   "outputs": [],
   "source": [
    "# Protein encoder\n",
    "prot_tokenizer = BertTokenizer.from_pretrained(\"Rostlab/prot_bert\", do_lower_case=False)\n",
    "prot_model = BertModel.from_pretrained(\"Rostlab/prot_bert\").to(device)\n",
    "\n",
    "# Molecule encoder\n",
    "mol_tokenizer = RobertaTokenizer.from_pretrained(\"seyonec/ChemBERTa-zinc-base-v1\")\n",
    "mol_model = RobertaModel.from_pretrained(\"seyonec/ChemBERTa-zinc-base-v1\").to(device)\n",
    "\n",
    "max_prot_input_size = prot_model.config.max_position_embeddings\n",
    "max_mol_input_size = mol_model.config.max_position_embeddings"
   ]
  },
  {
   "cell_type": "markdown",
   "metadata": {},
   "source": [
    "### Load Dataset"
   ]
  },
  {
   "cell_type": "code",
   "execution_count": 30,
   "metadata": {},
   "outputs": [],
   "source": [
    "dataset = load_dataset(\"jglaser/binding_affinity\")\n",
    "\n",
    "# split_dataset = dataset[\"train\"].train_test_split(train_size=0.8)\n",
    "# train_dataset = split_dataset['train']\n",
    "# test_dataset = split_dataset['test']\n",
    "\n",
    "train_dataset = dataset[\"train\"].train_test_split(train_size=0.0008)['train']\n",
    "test_dataset = dataset[\"train\"].train_test_split(test_size=0.0002)['test']"
   ]
  },
  {
   "cell_type": "markdown",
   "metadata": {},
   "source": [
    "### Preprocess Data"
   ]
  },
  {
   "cell_type": "code",
   "execution_count": 31,
   "metadata": {},
   "outputs": [
    {
     "data": {
      "application/vnd.jupyter.widget-view+json": {
       "model_id": "0bb57b651f464f698b73eede45326fa1",
       "version_major": 2,
       "version_minor": 0
      },
      "text/plain": [
       "Map:   0%|          | 0/1469 [00:00<?, ? examples/s]"
      ]
     },
     "metadata": {},
     "output_type": "display_data"
    },
    {
     "data": {
      "application/vnd.jupyter.widget-view+json": {
       "model_id": "5f9aecdaab294f4695e0e4b1fd7be026",
       "version_major": 2,
       "version_minor": 0
      },
      "text/plain": [
       "Map:   0%|          | 0/368 [00:00<?, ? examples/s]"
      ]
     },
     "metadata": {},
     "output_type": "display_data"
    }
   ],
   "source": [
    "def preprocess_function(example):\n",
    "    example['seq'] = re.sub(r\"[UZOB]\", \"X\", example['seq'])\n",
    "    return example\n",
    "\n",
    "train_dataset = train_dataset.map(preprocess_function)\n",
    "test_dataset = test_dataset.map(preprocess_function)"
   ]
  },
  {
   "cell_type": "code",
   "execution_count": 38,
   "metadata": {},
   "outputs": [],
   "source": [
    "# Define Encoding functions\n",
    "def encode_batch(batch, tokenizer, model, max_input_size):\n",
    "    tokens = tokenizer(batch, padding=True, truncation=True, max_length=max_input_size, return_tensors='pt')\n",
    "    with torch.no_grad():\n",
    "        outputs = model(**tokens.to(device))\n",
    "    representations = outputs.last_hidden_state.mean(dim=1)\n",
    "    return representations.cpu()\n",
    "\n",
    "def encode_sequences(prot_seq, mol_smiles, batch_size=32):\n",
    "    # Encode in batches to prevent out-of-memory errors\n",
    "    prot_representations = []\n",
    "    chem_representations = []\n",
    "    \n",
    "    prot_loader = DataLoader(prot_seq, batch_size=batch_size, shuffle=False)\n",
    "    for prot_batch in prot_loader:\n",
    "        prot_representations.append(encode_batch(prot_batch, prot_tokenizer, prot_model, max_prot_input_size))\n",
    "        \n",
    "    chem_loader = DataLoader(mol_smiles, batch_size=batch_size, shuffle=False)\n",
    "    for chem_batch in chem_loader:\n",
    "        chem_representations.append(encode_batch(chem_batch, mol_tokenizer, mol_model, max_mol_input_size))\n",
    "        \n",
    "    return torch.cat(prot_representations, dim=0), torch.cat(chem_representations, dim=0)"
   ]
  },
  {
   "cell_type": "code",
   "execution_count": 42,
   "metadata": {},
   "outputs": [],
   "source": [
    "def create_tensor_dataset(dataset):\n",
    "    proteins, smiles, affinities = dataset[\"seq\"], dataset[\"smiles_can\"], dataset[\"affinity\"]\n",
    "    prot_rep, chem_rep = encode_sequences(proteins, smiles, 8)\n",
    "    return TensorDataset(prot_rep, chem_rep, torch.tensor(affinities))\n",
    "\n",
    "train_tensor_dataset = create_tensor_dataset(train_dataset)\n",
    "test_tensor_dataset = create_tensor_dataset(test_dataset)\n",
    "\n",
    "train_loader = DataLoader(train_tensor_dataset, batch_size=32, shuffle=True)\n",
    "test_loader = DataLoader(test_tensor_dataset, batch_size=32)"
   ]
  },
  {
   "cell_type": "code",
   "execution_count": 34,
   "metadata": {},
   "outputs": [],
   "source": [
    "torch.save(train_tensor_dataset, 'data\\\\train_data_processed')\n",
    "torch.save(test_tensor_dataset, 'data\\\\test_data_processed')"
   ]
  },
  {
   "cell_type": "code",
   "execution_count": 35,
   "metadata": {},
   "outputs": [],
   "source": [
    "train_tensor_dataset = torch.load('data\\\\test_data_processed')\n",
    "train_tensor_dataset = torch.load('data\\\\train_data_processed')"
   ]
  },
  {
   "cell_type": "code",
   "execution_count": null,
   "metadata": {},
   "outputs": [],
   "source": []
  },
  {
   "cell_type": "markdown",
   "metadata": {},
   "source": []
  }
 ],
 "metadata": {
  "kernelspec": {
   "display_name": "Python 3",
   "language": "python",
   "name": "python3"
  },
  "language_info": {
   "codemirror_mode": {
    "name": "ipython",
    "version": 3
   },
   "file_extension": ".py",
   "mimetype": "text/x-python",
   "name": "python",
   "nbconvert_exporter": "python",
   "pygments_lexer": "ipython3",
   "version": "3.11.6"
  }
 },
 "nbformat": 4,
 "nbformat_minor": 2
}
