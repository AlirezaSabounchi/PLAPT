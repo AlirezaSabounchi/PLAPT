{
 "cells": [
  {
   "cell_type": "code",
   "execution_count": 1,
   "metadata": {},
   "outputs": [],
   "source": [
    "from transformers import BertModel, BertTokenizer\n",
    "from transformers import AutoTokenizer, AutoModelForMaskedLM\n",
    "from datasets import load_dataset\n",
    "import re"
   ]
  },
  {
   "cell_type": "code",
   "execution_count": 2,
   "metadata": {},
   "outputs": [
    {
     "name": "stderr",
     "output_type": "stream",
     "text": [
      "Some weights of the model checkpoint at seyonec/ChemBERTa-zinc-base-v1 were not used when initializing RobertaForMaskedLM: ['roberta.pooler.dense.weight', 'roberta.pooler.dense.bias']\n",
      "- This IS expected if you are initializing RobertaForMaskedLM from the checkpoint of a model trained on another task or with another architecture (e.g. initializing a BertForSequenceClassification model from a BertForPreTraining model).\n",
      "- This IS NOT expected if you are initializing RobertaForMaskedLM from the checkpoint of a model that you expect to be exactly identical (initializing a BertForSequenceClassification model from a BertForSequenceClassification model).\n"
     ]
    }
   ],
   "source": [
    "prot_tokenizer = BertTokenizer.from_pretrained(\"Rostlab/prot_bert\", do_lower_case=False)\n",
    "prot_model = BertModel.from_pretrained(\"Rostlab/prot_bert\")\n",
    "\n",
    "mol_tokenizer = AutoTokenizer.from_pretrained(\"seyonec/ChemBERTa-zinc-base-v1\")\n",
    "mol_model = AutoModelForMaskedLM.from_pretrained(\"seyonec/ChemBERTa-zinc-base-v1\")\n",
    "\n",
    "dataset = load_dataset(\"jglaser/binding_affinity\")"
   ]
  },
  {
   "cell_type": "code",
   "execution_count": null,
   "metadata": {},
   "outputs": [],
   "source": [
    "# Import necessary packages\n",
    "import torch\n",
    "import torch.nn as nn\n",
    "from torch.utils.data import DataLoader, TensorDataset\n",
    "from transformers import BertModel, BertTokenizer, AutoTokenizer, AutoModelForMaskedLM\n",
    "from datasets import load_dataset\n",
    "\n",
    "# Load Pre-trained Models and Tokenizers\n",
    "prot_tokenizer = BertTokenizer.from_pretrained(\"Rostlab/prot_bert\", do_lower_case=False)\n",
    "prot_model = BertModel.from_pretrained(\"Rostlab/prot_bert\")\n",
    "\n",
    "mol_tokenizer = AutoTokenizer.from_pretrained(\"seyonec/ChemBERTa-zinc-base-v1\")\n",
    "mol_model = AutoModelForMaskedLM.from_pretrained(\"seyonec/ChemBERTa-zinc-base-v1\")\n",
    "\n",
    "# Load Dataset\n",
    "dataset = load_dataset(\"jglaser/binding_affinity\")\n",
    "\n",
    "# Preprocess and Tokenize Data\n",
    "def tokenize_data(data):\n",
    "    prot_inputs = prot_tokenizer(data['seq'], padding=True, truncation=True, return_tensors=\"pt\")\n",
    "    mol_inputs = mol_tokenizer(data['smiles_can'], padding=True, truncation=True, return_tensors=\"pt\")\n",
    "    labels = torch.tensor(data['affinity']).unsqueeze(1)  # Make sure the shape is (n_samples, 1)\n",
    "    return prot_inputs, mol_inputs, labels\n",
    "\n",
    "train_data = dataset['train']\n",
    "prot_inputs, mol_inputs, labels = tokenize_data(train_data)\n",
    "\n",
    "# Define Custom Model with Cross Attention\n",
    "class CrossAttentionModel(nn.Module):\n",
    "    def __init__(self):\n",
    "        super(CrossAttentionModel, self).__init__()\n",
    "        self.prot_encoder = prot_model\n",
    "        self.mol_encoder = mol_model\n",
    "        self.cross_attention = nn.MultiheadAttention(embed_dim=768, num_heads=8)  # Assume the hidden_size is 768\n",
    "        self.fc = nn.Linear(768, 1)  # Output layer to predict affinity\n",
    "\n",
    "    def forward(self, prot_input, mol_input):\n",
    "        prot_output = self.prot_encoder(**prot_input).last_hidden_state\n",
    "        mol_output = self.mol_encoder(**mol_input).last_hidden_state\n",
    "        cross_att_output, _ = self.cross_attention(prot_output, mol_output, mol_output)\n",
    "        output = self.fc(cross_att_output[:, 0, :])  # Take the [CLS] representation\n",
    "        return output\n",
    "\n",
    "# Create DataLoader\n",
    "batch_size = 32\n",
    "train_data = TensorDataset(prot_inputs['input_ids'], prot_inputs['attention_mask'],\n",
    "                           mol_inputs['input_ids'], mol_inputs['attention_mask'],\n",
    "                           labels)\n",
    "train_loader = DataLoader(train_data, shuffle=True, batch_size=batch_size)\n",
    "\n",
    "# Instantiate Model and Loss\n",
    "model = CrossAttentionModel()\n",
    "criterion = nn.MSELoss()  # Mean Square Error loss\n",
    "optimizer = torch.optim.Adam(model.parameters(), lr=1e-4)\n",
    "\n",
    "# Train Model\n",
    "n_epochs = 10\n",
    "for epoch in range(n_epochs):\n",
    "    for batch in train_loader:\n",
    "        prot_input_ids, prot_attention_mask, mol_input_ids, mol_attention_mask, label = batch\n",
    "        prot_input = {'input_ids': prot_input_ids, 'attention_mask': prot_attention_mask}\n",
    "        mol_input = {'input_ids': mol_input_ids, 'attention_mask': mol_attention_mask}\n",
    "        \n",
    "        optimizer.zero_grad()\n",
    "        output = model(prot_input, mol_input)\n",
    "        loss = criterion(output, label)\n",
    "        loss.backward()\n",
    "        optimizer.step()\n",
    "        \n",
    "    print(f\"Epoch {epoch+1}/{n_epochs} - Loss: {loss.item()}\")\n"
   ]
  },
  {
   "cell_type": "code",
   "execution_count": 6,
   "metadata": {},
   "outputs": [
    {
     "data": {
      "text/plain": [
       "{'train': ['seq',\n",
       "  'smiles',\n",
       "  'affinity_uM',\n",
       "  'neg_log10_affinity_M',\n",
       "  'smiles_can',\n",
       "  'affinity'],\n",
       " 'no_kras': ['seq',\n",
       "  'smiles',\n",
       "  'affinity_uM',\n",
       "  'neg_log10_affinity_M',\n",
       "  'smiles_can',\n",
       "  'affinity'],\n",
       " 'covalent': ['seq',\n",
       "  'smiles',\n",
       "  'affinity_uM',\n",
       "  'neg_log10_affinity_M',\n",
       "  'smiles_can',\n",
       "  'affinity']}"
      ]
     },
     "execution_count": 6,
     "metadata": {},
     "output_type": "execute_result"
    }
   ],
   "source": [
    "dataset.column_names"
   ]
  },
  {
   "cell_type": "markdown",
   "metadata": {},
   "source": [
    "I am doing a machine learning project in python where for predicting protein ligand binding affinity. Here is the code I have right now:\n",
    "\n",
    "from transformers import BertModel, BertTokenizer\n",
    "from transformers import AutoTokenizer, AutoModelForMaskedLM\n",
    "from datasets import load_dataset\n",
    "import re\n",
    "\n",
    "prot_tokenizer = BertTokenizer.from_pretrained(\"Rostlab/prot_bert\", do_lower_case=False)\n",
    "prot_model = BertModel.from_pretrained(\"Rostlab/prot_bert\")\n",
    "\n",
    "mol_tokenizer = AutoTokenizer.from_pretrained(\"seyonec/ChemBERTa-zinc-base-v1\")\n",
    "mol_model = AutoModelForMaskedLM.from_pretrained(\"seyonec/ChemBERTa-zinc-base-v1\")\n",
    "\n",
    "dataset = load_dataset(\"jglaser/binding_affinity\")\n",
    "\n",
    "the dataset has the following column names and structure:\n",
    "{'train': ['seq',\n",
    "  'smiles',\n",
    "  'affinity_uM',\n",
    "  'neg_log10_affinity_M',\n",
    "  'smiles_can',\n",
    "  'affinity'],\n",
    " 'no_kras': ['seq',\n",
    "  'smiles',\n",
    "  'affinity_uM',\n",
    "  'neg_log10_affinity_M',\n",
    "  'smiles_can',\n",
    "  'affinity'],\n",
    " 'covalent': ['seq',\n",
    "  'smiles',\n",
    "  'affinity_uM',\n",
    "  'neg_log10_affinity_M',\n",
    "  'smiles_can',\n",
    "  'affinity']}\n",
    "\n",
    "I want to use the prot_model as an encoder for the sequences and the mol_model for an encoder for the smiles_can data. The model will then predict affinity values using a cross attention mechanism from the encoded sequence and molecule data. I want you to write the entire program. \n",
    "\n",
    "You are an experienced software engineer and machine learning engineer. \n",
    "\n",
    "Take a deep breath and work on this step by step"
   ]
  },
  {
   "cell_type": "code",
   "execution_count": null,
   "metadata": {},
   "outputs": [],
   "source": []
  }
 ],
 "metadata": {
  "kernelspec": {
   "display_name": "Python 3",
   "language": "python",
   "name": "python3"
  },
  "language_info": {
   "codemirror_mode": {
    "name": "ipython",
    "version": 3
   },
   "file_extension": ".py",
   "mimetype": "text/x-python",
   "name": "python",
   "nbconvert_exporter": "python",
   "pygments_lexer": "ipython3",
   "version": "3.11.6"
  }
 },
 "nbformat": 4,
 "nbformat_minor": 2
}
